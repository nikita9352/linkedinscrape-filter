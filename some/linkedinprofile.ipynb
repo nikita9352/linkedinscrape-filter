{
 "cells": [
  {
   "cell_type": "code",
   "execution_count": 1,
   "metadata": {},
   "outputs": [],
   "source": [
    "from linkedin_api import Linkedin"
   ]
  },
  {
   "cell_type": "code",
   "execution_count": 2,
   "metadata": {},
   "outputs": [],
   "source": [
    "email = 'emrebasarr_@hotmail.com'\n",
    "password = 'linkedin19944'  \n",
    "api = Linkedin(email, password)"
   ]
  },
  {
   "cell_type": "code",
   "execution_count": 6,
   "metadata": {},
   "outputs": [
    {
     "name": "stderr",
     "output_type": "stream",
     "text": [
      "INFO:linkedin_api.linkedin:request failed: This profile can't be accessed\n"
     ]
    },
    {
     "name": "stdout",
     "output_type": "stream",
     "text": [
      "{}\n"
     ]
    }
   ],
   "source": [
    "print(api.get_profile('isabelle-pilgrim'))"
   ]
  },
  {
   "cell_type": "code",
   "execution_count": 7,
   "metadata": {},
   "outputs": [
    {
     "name": "stdout",
     "output_type": "stream",
     "text": [
      "Collecting linkedin-scraper\n",
      "  Downloading linkedin_scraper-2.9.0-py3-none-any.whl (25 kB)\n",
      "Collecting lxml\n",
      "  Downloading lxml-4.8.0-cp310-cp310-win_amd64.whl (3.6 MB)\n",
      "     ---------------------------------------- 3.6/3.6 MB 1.9 MB/s eta 0:00:00\n",
      "Collecting requests\n",
      "  Using cached requests-2.27.1-py2.py3-none-any.whl (63 kB)\n",
      "Requirement already satisfied: selenium in c:\\users\\emreb\\.conda\\envs\\restapiudemy\\lib\\site-packages (from linkedin-scraper) (4.1.3)\n",
      "Collecting idna<4,>=2.5\n",
      "  Using cached idna-3.3-py3-none-any.whl (61 kB)\n",
      "Collecting urllib3<1.27,>=1.21.1\n",
      "  Downloading urllib3-1.26.9-py2.py3-none-any.whl (138 kB)\n",
      "     -------------------------------------- 139.0/139.0 KB 1.4 MB/s eta 0:00:00\n",
      "Collecting charset-normalizer~=2.0.0\n",
      "  Downloading charset_normalizer-2.0.12-py3-none-any.whl (39 kB)\n",
      "Requirement already satisfied: certifi>=2017.4.17 in c:\\users\\emreb\\.conda\\envs\\restapiudemy\\lib\\site-packages (from requests->linkedin-scraper) (2021.10.8)\n",
      "Requirement already satisfied: trio~=0.17 in c:\\users\\emreb\\.conda\\envs\\restapiudemy\\lib\\site-packages (from selenium->linkedin-scraper) (0.20.0)\n",
      "Requirement already satisfied: trio-websocket~=0.9 in c:\\users\\emreb\\.conda\\envs\\restapiudemy\\lib\\site-packages (from selenium->linkedin-scraper) (0.9.2)\n",
      "Requirement already satisfied: async-generator>=1.9 in c:\\users\\emreb\\.conda\\envs\\restapiudemy\\lib\\site-packages (from trio~=0.17->selenium->linkedin-scraper) (1.10)\n",
      "Requirement already satisfied: sortedcontainers in c:\\users\\emreb\\.conda\\envs\\restapiudemy\\lib\\site-packages (from trio~=0.17->selenium->linkedin-scraper) (2.4.0)\n",
      "Requirement already satisfied: attrs>=19.2.0 in c:\\users\\emreb\\.conda\\envs\\restapiudemy\\lib\\site-packages (from trio~=0.17->selenium->linkedin-scraper) (21.4.0)\n",
      "Collecting cffi>=1.14\n",
      "  Using cached cffi-1.15.0-cp310-cp310-win_amd64.whl (180 kB)\n",
      "Collecting sniffio\n",
      "  Using cached sniffio-1.2.0-py3-none-any.whl (10 kB)\n",
      "Requirement already satisfied: outcome in c:\\users\\emreb\\.conda\\envs\\restapiudemy\\lib\\site-packages (from trio~=0.17->selenium->linkedin-scraper) (1.1.0)\n",
      "Requirement already satisfied: wsproto>=0.14 in c:\\users\\emreb\\.conda\\envs\\restapiudemy\\lib\\site-packages (from trio-websocket~=0.9->selenium->linkedin-scraper) (1.1.0)\n",
      "Requirement already satisfied: PySocks!=1.5.7,<2.0,>=1.5.6 in c:\\users\\emreb\\.conda\\envs\\restapiudemy\\lib\\site-packages (from urllib3<1.27,>=1.21.1->requests->linkedin-scraper) (1.7.1)\n",
      "Collecting cryptography>=1.3.4\n",
      "  Downloading cryptography-37.0.1-cp36-abi3-win_amd64.whl (2.4 MB)\n",
      "     ---------------------------------------- 2.4/2.4 MB 2.1 MB/s eta 0:00:00\n",
      "Requirement already satisfied: pyOpenSSL>=0.14 in c:\\users\\emreb\\.conda\\envs\\restapiudemy\\lib\\site-packages (from urllib3<1.27,>=1.21.1->requests->linkedin-scraper) (22.0.0)\n",
      "Collecting pycparser\n",
      "  Using cached pycparser-2.21-py2.py3-none-any.whl (118 kB)\n",
      "Collecting h11<1,>=0.9.0\n",
      "  Using cached h11-0.13.0-py3-none-any.whl (58 kB)\n",
      "Installing collected packages: urllib3, sniffio, pycparser, lxml, idna, h11, charset-normalizer, requests, cffi, cryptography, linkedin-scraper\n",
      "Successfully installed cffi-1.15.0 charset-normalizer-2.0.12 cryptography-37.0.1 h11-0.13.0 idna-3.3 linkedin-scraper-2.9.0 lxml-4.8.0 pycparser-2.21 requests-2.27.1 sniffio-1.2.0 urllib3-1.26.9\n",
      "Note: you may need to restart the kernel to use updated packages.\n"
     ]
    },
    {
     "name": "stderr",
     "output_type": "stream",
     "text": [
      "ERROR: pip's dependency resolver does not currently take into account all the packages that are installed. This behaviour is the source of the following dependency conflicts.\n",
      "streamlit 1.8.1 requires click<8.1,>=7.0, which is not installed.\n",
      "streamlit 1.8.1 requires pillow>=6.2.0, which is not installed.\n"
     ]
    }
   ],
   "source": [
    "pip install linkedin-scraper"
   ]
  },
  {
   "cell_type": "code",
   "execution_count": 1,
   "metadata": {},
   "outputs": [],
   "source": [
    "from linkedin_scraper import Person, actions\n",
    "from selenium import webdriver"
   ]
  },
  {
   "cell_type": "code",
   "execution_count": 6,
   "metadata": {},
   "outputs": [],
   "source": [
    "link = \"https://www.linkedin.com/in/madsfaurholt?miniProfileUrn=urn%3Ali%3Afs_miniProfile%3AACoAAAAMLL8BgnNVpYqv1KJUllJpuAdyHwIpG6w\"\n",
    "p = link.split('miniProfil')[0]"
   ]
  },
  {
   "cell_type": "code",
   "execution_count": 8,
   "metadata": {},
   "outputs": [
    {
     "name": "stderr",
     "output_type": "stream",
     "text": [
      "C:\\Users\\emreb\\.conda\\envs\\restapiudemy\\lib\\site-packages\\selenium\\webdriver\\remote\\webelement.py:446: UserWarning: find_element_by_class_name is deprecated. Please use find_element(by=By.CLASS_NAME, value=name) instead\n",
      "  warnings.warn(\"find_element_by_class_name is deprecated. Please use find_element(by=By.CLASS_NAME, value=name) instead\")\n",
      "C:\\Users\\emreb\\.conda\\envs\\restapiudemy\\lib\\site-packages\\selenium\\webdriver\\remote\\webelement.py:341: UserWarning: find_element_by_tag_name is deprecated. Please use find_element(by=By.TAG_NAME, value=name) instead\n",
      "  warnings.warn(\"find_element_by_tag_name is deprecated. Please use find_element(by=By.TAG_NAME, value=name) instead\")\n",
      "C:\\Users\\emreb\\.conda\\envs\\restapiudemy\\lib\\site-packages\\selenium\\webdriver\\remote\\webelement.py:464: UserWarning: find_elements_by_class_name is deprecated. Please use find_elements(by=By.CLASS_NAME, value=name) instead\n",
      "  warnings.warn(\"find_elements_by_class_name is deprecated. Please use find_elements(by=By.CLASS_NAME, value=name) instead\")\n"
     ]
    },
    {
     "name": "stdout",
     "output_type": "stream",
     "text": [
      "you are not logged in!\n"
     ]
    }
   ],
   "source": [
    "email = 'emrebasarr_@hotmail.com'\n",
    "password = 'linkedin19944'  \n",
    "driver = webdriver.Chrome()\n",
    "actions.login(driver, email, password) # if email and password isnt given, it'll prompt in terminal\n",
    "person = Person(p,driver = driver)\n",
    "person.scrape()"
   ]
  },
  {
   "cell_type": "code",
   "execution_count": null,
   "metadata": {},
   "outputs": [],
   "source": []
  },
  {
   "cell_type": "code",
   "execution_count": null,
   "metadata": {},
   "outputs": [],
   "source": []
  }
 ],
 "metadata": {
  "interpreter": {
   "hash": "88f3e751729a1f977d3eb05b91343e52b790ed3be2853f1478b08d4621f0914b"
  },
  "kernelspec": {
   "display_name": "Python 3.10.0 ('restapiudemy')",
   "language": "python",
   "name": "python3"
  },
  "language_info": {
   "codemirror_mode": {
    "name": "ipython",
    "version": 3
   },
   "file_extension": ".py",
   "mimetype": "text/x-python",
   "name": "python",
   "nbconvert_exporter": "python",
   "pygments_lexer": "ipython3",
   "version": "3.10.0"
  },
  "orig_nbformat": 4
 },
 "nbformat": 4,
 "nbformat_minor": 2
}
